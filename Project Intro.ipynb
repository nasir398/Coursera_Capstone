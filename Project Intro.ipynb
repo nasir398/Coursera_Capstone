{
 "cells": [
  {
   "cell_type": "markdown",
   "metadata": {},
   "source": [
    "# Major attractions nearby and Data Science jobs (in MA)."
   ]
  },
  {
   "cell_type": "markdown",
   "metadata": {},
   "source": [
    "#### Date: 21 March 2019\n",
    "#### Author: Nasir Ahmad\n",
    "#### Publication: This article is purely based on personal research for non commercial usages. The services used by third party are credited without any intention of copy right violation. \n"
   ]
  },
  {
   "cell_type": "markdown",
   "metadata": {},
   "source": [
    "## Introduction"
   ]
  },
  {
   "cell_type": "markdown",
   "metadata": {},
   "source": [
    "Data science jobs are available around the globe yet the hunt for job is not easy when you have too many places to choose from. In this article I will focus on the types of locations where Data Science jobs are available in Massachusetts US. \n",
    "There are two approaches to get any job:\n",
    "1.\tLook for a new job around your current location. \n",
    "2.\tSearch with keyword and then go through each job description. \n",
    "\n",
    "Both of above methods fail to include one basic question: What kind of neighborhood is the company located in? Everyone knows the high-tech jobs are available in Silicon Valley, Seattle, New York, and Boston and so on. But what if you are not a big fan of living in a populous city, what if you just want a peaceful country side to live and code for living! \n",
    "This article answers the following question:\n",
    "\n",
    "**“What are the major attractions nearby locations where Data Science jobs are being offered in Massachusetts?”**\n"
   ]
  },
  {
   "cell_type": "markdown",
   "metadata": {},
   "source": [
    "## Data Section"
   ]
  },
  {
   "cell_type": "markdown",
   "metadata": {},
   "source": [
    "1. Foursquare is a platform which provides information about places in a given neighborhood. In this article Foursquare‘s listing is used to get popular sites in a given area.  It provides developers with a good API which provides result in the form of JSON file, which developer can comprehend as per requirements. \n",
    "\n",
    "https://foursquare.com/city-guide\n",
    "\n",
    "2. Adzuna (A) is a website which provides jobs listing for any given location in addition to other useful services related to jobs. This article uses Adzuna developer API for information related to Data Science jobs in Massachusetts. \n",
    "\n",
    "https://www.adzuna.com/\n",
    "\n",
    "3. Massachusetts State is divided into 14 counties as shown in below image. \n",
    "\n",
    "https://upload.wikimedia.org/wikipedia/commons/b/b6/Massachusetts-counties-map.gif\n",
    "\n",
    "\n"
   ]
  }
 ],
 "metadata": {
  "kernelspec": {
   "display_name": "Python 3",
   "language": "python",
   "name": "python3"
  },
  "language_info": {
   "codemirror_mode": {
    "name": "ipython",
    "version": 3
   },
   "file_extension": ".py",
   "mimetype": "text/x-python",
   "name": "python",
   "nbconvert_exporter": "python",
   "pygments_lexer": "ipython3",
   "version": "3.6.8"
  }
 },
 "nbformat": 4,
 "nbformat_minor": 2
}
